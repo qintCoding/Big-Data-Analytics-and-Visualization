{
 "cells": [
  {
   "cell_type": "code",
   "execution_count": 126,
   "metadata": {},
   "outputs": [],
   "source": [
    "import pandas as pd\n",
    "import numpy as np"
   ]
  },
  {
   "cell_type": "code",
   "execution_count": 127,
   "metadata": {},
   "outputs": [
    {
     "name": "stderr",
     "output_type": "stream",
     "text": [
      "C:\\Users\\86187\\AppData\\Local\\Temp\\ipykernel_18552\\229430158.py:2: DtypeWarning: Columns (11,12,14) have mixed types. Specify dtype option on import or set low_memory=False.\n",
      "  data = pd.read_csv('C:/Users/86187/Downloads/house.csv')\n"
     ]
    },
    {
     "data": {
      "text/html": [
       "<div>\n",
       "<style scoped>\n",
       "    .dataframe tbody tr th:only-of-type {\n",
       "        vertical-align: middle;\n",
       "    }\n",
       "\n",
       "    .dataframe tbody tr th {\n",
       "        vertical-align: top;\n",
       "    }\n",
       "\n",
       "    .dataframe thead th {\n",
       "        text-align: right;\n",
       "    }\n",
       "</style>\n",
       "<table border=\"1\" class=\"dataframe\">\n",
       "  <thead>\n",
       "    <tr style=\"text-align: right;\">\n",
       "      <th></th>\n",
       "      <th>url</th>\n",
       "      <th>id</th>\n",
       "      <th>Lng</th>\n",
       "      <th>Lat</th>\n",
       "      <th>Cid</th>\n",
       "      <th>tradeTime</th>\n",
       "      <th>DOM</th>\n",
       "      <th>followers</th>\n",
       "      <th>totalPrice</th>\n",
       "      <th>price</th>\n",
       "      <th>...</th>\n",
       "      <th>buildingType</th>\n",
       "      <th>constructionTime</th>\n",
       "      <th>renovationCondition</th>\n",
       "      <th>buildingStructure</th>\n",
       "      <th>ladderRatio</th>\n",
       "      <th>elevator</th>\n",
       "      <th>fiveYearsProperty</th>\n",
       "      <th>subway</th>\n",
       "      <th>district</th>\n",
       "      <th>communityAverage</th>\n",
       "    </tr>\n",
       "  </thead>\n",
       "  <tbody>\n",
       "    <tr>\n",
       "      <th>0</th>\n",
       "      <td>https://bj.lianjia.com/chengjiao/BJSY02072263....</td>\n",
       "      <td>BJSY02072263</td>\n",
       "      <td>116.632377</td>\n",
       "      <td>40.033796</td>\n",
       "      <td>1.111030e+12</td>\n",
       "      <td>2011/10/29</td>\n",
       "      <td>NaN</td>\n",
       "      <td>0</td>\n",
       "      <td>0.1</td>\n",
       "      <td>1</td>\n",
       "      <td>...</td>\n",
       "      <td>4.0</td>\n",
       "      <td>2001</td>\n",
       "      <td>1</td>\n",
       "      <td>4</td>\n",
       "      <td>0.5</td>\n",
       "      <td>0.0</td>\n",
       "      <td>1.0</td>\n",
       "      <td>0.0</td>\n",
       "      <td>13</td>\n",
       "      <td>29574.0</td>\n",
       "    </tr>\n",
       "    <tr>\n",
       "      <th>1</th>\n",
       "      <td>https://bj.lianjia.com/chengjiao/BJHD00299247....</td>\n",
       "      <td>BJHD00299247</td>\n",
       "      <td>116.353539</td>\n",
       "      <td>39.979585</td>\n",
       "      <td>1.111030e+12</td>\n",
       "      <td>2011/8/6</td>\n",
       "      <td>NaN</td>\n",
       "      <td>0</td>\n",
       "      <td>0.1</td>\n",
       "      <td>1</td>\n",
       "      <td>...</td>\n",
       "      <td>1.0</td>\n",
       "      <td>1998</td>\n",
       "      <td>1</td>\n",
       "      <td>6</td>\n",
       "      <td>0.3</td>\n",
       "      <td>1.0</td>\n",
       "      <td>0.0</td>\n",
       "      <td>1.0</td>\n",
       "      <td>8</td>\n",
       "      <td>75239.0</td>\n",
       "    </tr>\n",
       "    <tr>\n",
       "      <th>2</th>\n",
       "      <td>https://bj.lianjia.com/chengjiao/BJHD88951551....</td>\n",
       "      <td>BJHD88951551</td>\n",
       "      <td>116.324021</td>\n",
       "      <td>40.050993</td>\n",
       "      <td>1.111030e+12</td>\n",
       "      <td>2015/2/28</td>\n",
       "      <td>1.0</td>\n",
       "      <td>0</td>\n",
       "      <td>0.1</td>\n",
       "      <td>1</td>\n",
       "      <td>...</td>\n",
       "      <td>3.0</td>\n",
       "      <td>2008</td>\n",
       "      <td>1</td>\n",
       "      <td>6</td>\n",
       "      <td>0.5</td>\n",
       "      <td>1.0</td>\n",
       "      <td>0.0</td>\n",
       "      <td>0.0</td>\n",
       "      <td>8</td>\n",
       "      <td>63665.0</td>\n",
       "    </tr>\n",
       "    <tr>\n",
       "      <th>3</th>\n",
       "      <td>https://bj.lianjia.com/chengjiao/BJSY15751880....</td>\n",
       "      <td>BJSY15751880</td>\n",
       "      <td>116.683117</td>\n",
       "      <td>40.127185</td>\n",
       "      <td>1.111030e+12</td>\n",
       "      <td>2011/11/1</td>\n",
       "      <td>NaN</td>\n",
       "      <td>0</td>\n",
       "      <td>0.1</td>\n",
       "      <td>1</td>\n",
       "      <td>...</td>\n",
       "      <td>4.0</td>\n",
       "      <td>2004</td>\n",
       "      <td>1</td>\n",
       "      <td>2</td>\n",
       "      <td>0.5</td>\n",
       "      <td>1.0</td>\n",
       "      <td>0.0</td>\n",
       "      <td>0.0</td>\n",
       "      <td>13</td>\n",
       "      <td>37937.0</td>\n",
       "    </tr>\n",
       "    <tr>\n",
       "      <th>4</th>\n",
       "      <td>https://bj.lianjia.com/chengjiao/BJSY84271148....</td>\n",
       "      <td>BJSY84271148</td>\n",
       "      <td>116.661432</td>\n",
       "      <td>40.180564</td>\n",
       "      <td>1.111030e+12</td>\n",
       "      <td>2012/2/26</td>\n",
       "      <td>NaN</td>\n",
       "      <td>0</td>\n",
       "      <td>0.1</td>\n",
       "      <td>1</td>\n",
       "      <td>...</td>\n",
       "      <td>4.0</td>\n",
       "      <td>2001</td>\n",
       "      <td>1</td>\n",
       "      <td>2</td>\n",
       "      <td>0.5</td>\n",
       "      <td>0.0</td>\n",
       "      <td>0.0</td>\n",
       "      <td>0.0</td>\n",
       "      <td>13</td>\n",
       "      <td>31282.0</td>\n",
       "    </tr>\n",
       "  </tbody>\n",
       "</table>\n",
       "<p>5 rows × 26 columns</p>\n",
       "</div>"
      ],
      "text/plain": [
       "                                                 url            id  \\\n",
       "0  https://bj.lianjia.com/chengjiao/BJSY02072263....  BJSY02072263   \n",
       "1  https://bj.lianjia.com/chengjiao/BJHD00299247....  BJHD00299247   \n",
       "2  https://bj.lianjia.com/chengjiao/BJHD88951551....  BJHD88951551   \n",
       "3  https://bj.lianjia.com/chengjiao/BJSY15751880....  BJSY15751880   \n",
       "4  https://bj.lianjia.com/chengjiao/BJSY84271148....  BJSY84271148   \n",
       "\n",
       "          Lng        Lat           Cid   tradeTime  DOM  followers  \\\n",
       "0  116.632377  40.033796  1.111030e+12  2011/10/29  NaN          0   \n",
       "1  116.353539  39.979585  1.111030e+12    2011/8/6  NaN          0   \n",
       "2  116.324021  40.050993  1.111030e+12   2015/2/28  1.0          0   \n",
       "3  116.683117  40.127185  1.111030e+12   2011/11/1  NaN          0   \n",
       "4  116.661432  40.180564  1.111030e+12   2012/2/26  NaN          0   \n",
       "\n",
       "   totalPrice  price  ...  buildingType constructionTime renovationCondition  \\\n",
       "0         0.1      1  ...           4.0             2001                   1   \n",
       "1         0.1      1  ...           1.0             1998                   1   \n",
       "2         0.1      1  ...           3.0             2008                   1   \n",
       "3         0.1      1  ...           4.0             2004                   1   \n",
       "4         0.1      1  ...           4.0             2001                   1   \n",
       "\n",
       "   buildingStructure ladderRatio elevator  fiveYearsProperty subway  district  \\\n",
       "0                  4         0.5      0.0                1.0    0.0        13   \n",
       "1                  6         0.3      1.0                0.0    1.0         8   \n",
       "2                  6         0.5      1.0                0.0    0.0         8   \n",
       "3                  2         0.5      1.0                0.0    0.0        13   \n",
       "4                  2         0.5      0.0                0.0    0.0        13   \n",
       "\n",
       "   communityAverage  \n",
       "0           29574.0  \n",
       "1           75239.0  \n",
       "2           63665.0  \n",
       "3           37937.0  \n",
       "4           31282.0  \n",
       "\n",
       "[5 rows x 26 columns]"
      ]
     },
     "execution_count": 127,
     "metadata": {},
     "output_type": "execute_result"
    }
   ],
   "source": [
    "# 读取数据(如果想要读取自己的记得更改文件路径)\n",
    "data = pd.read_csv('C:/Users/86187/Downloads/house.csv')\n",
    "data.head()"
   ]
  },
  {
   "cell_type": "code",
   "execution_count": 128,
   "metadata": {},
   "outputs": [
    {
     "data": {
      "text/plain": [
       "(318851, 26)"
      ]
     },
     "execution_count": 128,
     "metadata": {},
     "output_type": "execute_result"
    }
   ],
   "source": [
    "# 数据规格(统共318851行26列)\n",
    "data.shape"
   ]
  },
  {
   "cell_type": "code",
   "execution_count": 129,
   "metadata": {},
   "outputs": [
    {
     "data": {
      "text/plain": [
       "Index(['url', 'id', 'Lng', 'Lat', 'Cid', 'tradeTime', 'DOM', 'followers',\n",
       "       'totalPrice', 'price', 'square', 'livingRoom', 'drawingRoom', 'kitchen',\n",
       "       'bathRoom', 'floor', 'buildingType', 'constructionTime',\n",
       "       'renovationCondition', 'buildingStructure', 'ladderRatio', 'elevator',\n",
       "       'fiveYearsProperty', 'subway', 'district', 'communityAverage'],\n",
       "      dtype='object')"
      ]
     },
     "execution_count": 129,
     "metadata": {},
     "output_type": "execute_result"
    }
   ],
   "source": [
    "data.columns"
   ]
  },
  {
   "cell_type": "code",
   "execution_count": 130,
   "metadata": {},
   "outputs": [
    {
     "data": {
      "text/plain": [
       "Index(['Lng', 'Lat', 'Cid', 'tradeTime', 'followers', 'totalPrice', 'price',\n",
       "       'square', 'livingRoom', 'drawingRoom', 'kitchen', 'bathRoom', 'floor',\n",
       "       'buildingType', 'constructionTime', 'renovationCondition',\n",
       "       'buildingStructure', 'ladderRatio', 'elevator', 'subway', 'district',\n",
       "       'communityAverage'],\n",
       "      dtype='object')"
      ]
     },
     "execution_count": 130,
     "metadata": {},
     "output_type": "execute_result"
    }
   ],
   "source": [
    "# 扔掉url、id、DOM和fiveYearsProperty这几列(之后不会再考虑这几个方面的问题)\n",
    "data = data.drop(['url', 'id', 'DOM','fiveYearsProperty'], axis=1)\n",
    "data.columns"
   ]
  },
  {
   "cell_type": "code",
   "execution_count": 131,
   "metadata": {},
   "outputs": [
    {
     "data": {
      "text/plain": [
       "225          0.2\n",
       "228          0.2\n",
       "229          1.0\n",
       "230          1.0\n",
       "231          1.0\n",
       "           ...  \n",
       "318846     666.0\n",
       "318847     982.5\n",
       "318848    1665.0\n",
       "318849     720.0\n",
       "318850    4250.0\n",
       "Name: totalPrice, Length: 318624, dtype: float64"
      ]
     },
     "execution_count": 131,
     "metadata": {},
     "output_type": "execute_result"
    }
   ],
   "source": [
    "# 删去totalPrice为0.1的数据(这些数据经观察不合法)\n",
    "data = data[data['totalPrice'] != 0.1]\n",
    "data['totalPrice']"
   ]
  },
  {
   "cell_type": "code",
   "execution_count": 132,
   "metadata": {},
   "outputs": [
    {
     "data": {
      "text/plain": [
       "225       2002\n",
       "228       1996\n",
       "229       2002\n",
       "230       1992\n",
       "231       1993\n",
       "          ... \n",
       "318845    2004\n",
       "318846    2004\n",
       "318847    1999\n",
       "318848    2003\n",
       "318849    1985\n",
       "Name: constructionTime, Length: 299358, dtype: object"
      ]
     },
     "execution_count": 132,
     "metadata": {},
     "output_type": "execute_result"
    }
   ],
   "source": [
    "# 删除constructionTime为Î´Öª的数据(这些数据经观察不合法)\n",
    "data = data[data['constructionTime'] != 'Î´Öª']\n",
    "data['constructionTime']"
   ]
  },
  {
   "cell_type": "code",
   "execution_count": 133,
   "metadata": {},
   "outputs": [
    {
     "data": {
      "text/plain": [
       "225        5\n",
       "228        9\n",
       "229        7\n",
       "230        6\n",
       "231        6\n",
       "          ..\n",
       "318845    14\n",
       "318846    16\n",
       "318847    12\n",
       "318848    19\n",
       "318849     6\n",
       "Name: floor, Length: 299358, dtype: object"
      ]
     },
     "execution_count": 133,
     "metadata": {},
     "output_type": "execute_result"
    }
   ],
   "source": [
    "# 取出floor部分的楼层而删除他在楼中的相对高度(不考虑相对高度)\n",
    "data['floor'] = data['floor'].str.split(' ').str[1]\n",
    "data['floor']"
   ]
  },
  {
   "cell_type": "code",
   "execution_count": 140,
   "metadata": {},
   "outputs": [
    {
     "data": {
      "text/plain": [
       "(299358, 22)"
      ]
     },
     "execution_count": 140,
     "metadata": {},
     "output_type": "execute_result"
    }
   ],
   "source": [
    "data.shape"
   ]
  },
  {
   "cell_type": "code",
   "execution_count": 160,
   "metadata": {},
   "outputs": [
    {
     "data": {
      "text/plain": [
       "(297813, 22)"
      ]
     },
     "execution_count": 160,
     "metadata": {},
     "output_type": "execute_result"
    }
   ],
   "source": [
    "# 此外buildingType数据仍有缺失我们直接删除即可\n",
    "data.dropna(subset=['buildingType'], inplace=True) #丢掉nan的部分\n",
    "data.shape"
   ]
  }
 ],
 "metadata": {
  "kernelspec": {
   "display_name": "Python 3",
   "language": "python",
   "name": "python3"
  },
  "language_info": {
   "codemirror_mode": {
    "name": "ipython",
    "version": 3
   },
   "file_extension": ".py",
   "mimetype": "text/x-python",
   "name": "python",
   "nbconvert_exporter": "python",
   "pygments_lexer": "ipython3",
   "version": "3.12.4"
  }
 },
 "nbformat": 4,
 "nbformat_minor": 2
}
