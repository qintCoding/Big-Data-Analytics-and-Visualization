{
 "cells": [
  {
   "cell_type": "code",
   "execution_count": null,
   "metadata": {},
   "outputs": [],
   "source": [
    "# 我们着重讨论不同区域的显著性影响因素\n",
    "import pandas as pd\n",
    "import numpy as np\n",
    "import matplotlib.pyplot as plt"
   ]
  },
  {
   "cell_type": "code",
   "execution_count": null,
   "metadata": {},
   "outputs": [],
   "source": [
    "data = pd.read_csv(\"C:/Users/86187/Desktop/新加坡国立大学暑期学校相关文件/data_cleaned.csv\")\n",
    "data.describe()"
   ]
  },
  {
   "cell_type": "code",
   "execution_count": null,
   "metadata": {},
   "outputs": [],
   "source": [
    "data.shape"
   ]
  },
  {
   "cell_type": "code",
   "execution_count": null,
   "metadata": {},
   "outputs": [],
   "source": [
    "data['totalRoom'] = data['livingRoom'] + data['drawingRoom'] + data['kitchen'] + data['bathRoom']\n",
    "data['houseAge'] = data['tradeTimeModefiy']//365 - data['constructionTime']\n",
    "data['houseCondition'] = data['renovationCondition'] + data['subway'] + data['elevator'] "
   ]
  },
  {
   "cell_type": "code",
   "execution_count": null,
   "metadata": {},
   "outputs": [],
   "source": [
    "import folium\n",
    "# 创建地图对象，设置初始位置和缩放级别\n",
    "m = folium.Map(location=[39.906217, 116.3912757], zoom_start=13)\n",
    "# 在地图上添加一个标记点\n",
    "folium.Marker([39.906217, 116.3912757], popup='Beijing').add_to(m)\n",
    "display(m)"
   ]
  },
  {
   "cell_type": "code",
   "execution_count": null,
   "metadata": {},
   "outputs": [],
   "source": [
    "# 对district进行分组并计算每个区域的样本个数\n",
    "district_counts = data.groupby('district').size()\n",
    "# 绘制柱状图\n",
    "district_counts.plot(kind='bar')\n",
    "\n",
    "plt.xlabel('District')\n",
    "plt.ylabel('Number of Properties')\n",
    "plt.title('Number of Properties by District')\n",
    "plt.xticks(range(len(district_counts)), ['Dongcheng', 'Fengtai', 'Tongzhou', 'Daxing', 'Fangshan', 'Changping', 'Chaoyang', 'Haidian', 'Shijingshan', 'Xicheng', 'Pinggu', 'Mentougou', 'Shunyi'], rotation=45)\n",
    "plt.show()"
   ]
  },
  {
   "cell_type": "code",
   "execution_count": null,
   "metadata": {},
   "outputs": [],
   "source": [
    "# 我们分区块研究影响房价的显著因素\n",
    "# 石景山区\n",
    "from folium.plugins import MarkerCluster\n",
    "Shijingshan_data = data[data['district'] == 9]\n",
    "map_center = [Shijingshan_data.iloc[0]['Lat'], Shijingshan_data.iloc[0]['Lng']]\n",
    "m = folium.Map(location=map_center, zoom_start=12)\n",
    "# 创建一个 MarkerCluster 对象\n",
    "marker_cluster = MarkerCluster().add_to(m)\n",
    "# 遍历为每个点添加标记到 MarkerCluster 中，而不是直接添加到地图上\n",
    "for index, row in Shijingshan_data.iterrows():\n",
    "    folium.Marker([row['Lat'], row['Lng']]).add_to(marker_cluster)\n",
    "display(m)"
   ]
  },
  {
   "cell_type": "code",
   "execution_count": null,
   "metadata": {},
   "outputs": [],
   "source": [
    "from folium.plugins import HeatMap\n",
    "# 东城区\n",
    "# 我们先观察房屋价格在地理空间中的分布情况\n",
    "map_center = [Shijingshan_data.iloc[0]['Lat']-0.03, Shijingshan_data.iloc[0]['Lng']]\n",
    "m = folium.Map(location=map_center, zoom_start=12)\n",
    "# 权重设置为每个点的price\n",
    "heat_data = [[row['Lat'], row['Lng'], row['attractiveness']] for index, row in Shijingshan_data.iterrows()]\n",
    "# 创建热度图并添加到地图上，使用price作为权重\n",
    "HeatMap(heat_data,blur=4, radius=8).add_to(m)\n",
    "m"
   ]
  },
  {
   "cell_type": "code",
   "execution_count": null,
   "metadata": {},
   "outputs": [],
   "source": [
    "# 我们在东城区的范围内研究房价的显著影响因素\n",
    "# 东城区\n",
    "import seaborn as sns\n",
    "# 使用Seaborn绘制ladderRatio与attarctiveness的关系\n",
    "sns.scatterplot(data=Shijingshan_data, x='ladderRatio', y='attractiveness')\n",
    "plt.title('Ladder Ratio vs Attractiveness in Dongcheng')\n",
    "plt.xlabel('Ladder Ratio')\n",
    "plt.ylabel('Attractiveness')\n",
    "plt.show()"
   ]
  },
  {
   "cell_type": "code",
   "execution_count": null,
   "metadata": {},
   "outputs": [],
   "source": [
    "# 计算ladderRatio和attractiveness之间的相关系数\n",
    "correlation_matrix = Shijingshan_data[['ladderRatio', 'attractiveness']].corr()\n",
    "# 打印相关系数矩阵\n",
    "print(correlation_matrix)\n",
    "# 从相关系数的角度看一般条件下ladderRatio在东城区不是一个显著影响房屋吸引力的因素"
   ]
  },
  {
   "cell_type": "code",
   "execution_count": null,
   "metadata": {},
   "outputs": [],
   "source": [
    "# 我们再观察东城区的房价与楼层高度的关系\n",
    "high_floor = Shijingshan_data[Shijingshan_data['floor'] > 10]\n",
    "low_floor = Shijingshan_data[Shijingshan_data['floor'] <= 10]\n",
    "print(\"东城区高层建筑共{high_floor}个，低层建筑共{low_floor}个,高层建筑占比为{high_floor_ratio:.2f}%\".format(high_floor=len(high_floor), low_floor=len(low_floor), high_floor_ratio=len(high_floor)/len(Shijingshan_data)*100))"
   ]
  },
  {
   "cell_type": "code",
   "execution_count": null,
   "metadata": {},
   "outputs": [],
   "source": [
    "# 绘制饼图\n",
    "plt.figure(figsize=(8, 8))\n",
    "plt.pie([len(high_floor), len(low_floor)], labels=['High Floor', 'Low Floor'], autopct='%1.1f%%', startangle=140)\n",
    "plt.title('Dongcheng Building Type Distribution')\n",
    "plt.show()"
   ]
  },
  {
   "cell_type": "code",
   "execution_count": null,
   "metadata": {},
   "outputs": [],
   "source": [
    "# 计算floor和attractivness之间的相关系数\n",
    "correlation_matrix = Shijingshan_data[['floor', 'attractiveness']].corr()\n",
    "print(correlation_matrix)"
   ]
  },
  {
   "cell_type": "code",
   "execution_count": null,
   "metadata": {},
   "outputs": [],
   "source": [
    "# 我们在东城区的范围内研究房价的显著影响因素\n",
    "# 东城区\n",
    "# 使用Seaborn绘制ladderRatio与attarctiveness的关系\n",
    "sns.scatterplot(data=Shijingshan_data, x='floor', y='attractiveness')\n",
    "plt.title('Floor vs Attarctiveness in Dongcheng')\n",
    "plt.xlabel('Floor')\n",
    "plt.ylabel('Attarctiveness')\n",
    "plt.show()"
   ]
  },
  {
   "cell_type": "code",
   "execution_count": null,
   "metadata": {},
   "outputs": [],
   "source": [
    "# 发现在东城区中整体上floor和房屋的受欢迎程度没有关联\n",
    "# 计算在高层条件下ladderRatio和attractiveness之间的相关系数\n",
    "correlation_matrix = high_floor[['ladderRatio', 'attractiveness']].corr()\n",
    "print(correlation_matrix)"
   ]
  },
  {
   "cell_type": "code",
   "execution_count": null,
   "metadata": {},
   "outputs": [],
   "source": [
    "correlation_matrix = low_floor[['ladderRatio', 'attractiveness']].corr()\n",
    "print(correlation_matrix)\n",
    "# 对于低层建筑, ladderRatio和attractiveness之间的关联性相较于高层建筑要更弱,虽然面对高层建筑时人们会考虑人均楼梯数目但总体来说不显著"
   ]
  },
  {
   "cell_type": "code",
   "execution_count": null,
   "metadata": {},
   "outputs": [],
   "source": [
    "sns.scatterplot(data=Shijingshan_data, x='communityAverage', y='attractiveness')\n",
    "plt.title('CommunityAverage vs Attarctiveness in Dongcheng')\n",
    "plt.xlabel('CommunityAverage')\n",
    "plt.ylabel('Attarctiveness')\n",
    "plt.show()"
   ]
  },
  {
   "cell_type": "code",
   "execution_count": null,
   "metadata": {},
   "outputs": [],
   "source": [
    "# 研究communityAverage与attractiveness之间的关联度\n",
    "correlation_matrix = Shijingshan_data[['communityAverage', 'attractiveness']].corr()\n",
    "print(correlation_matrix)"
   ]
  },
  {
   "cell_type": "code",
   "execution_count": null,
   "metadata": {},
   "outputs": [],
   "source": [
    "sns.scatterplot(data=Shijingshan_data, x='totalRoom', y='attractiveness')\n",
    "plt.title('TotalRoom vs Attarctiveness in Dongcheng')\n",
    "plt.xlabel('TotalRoom')\n",
    "plt.ylabel('Attarctiveness')\n",
    "plt.show()"
   ]
  },
  {
   "cell_type": "code",
   "execution_count": null,
   "metadata": {},
   "outputs": [],
   "source": [
    "# 研究totalRoom与attractiveness之间的关联度\n",
    "correlation_matrix = Shijingshan_data[['totalRoom', 'attractiveness']].corr()\n",
    "print(correlation_matrix)"
   ]
  },
  {
   "cell_type": "code",
   "execution_count": null,
   "metadata": {},
   "outputs": [],
   "source": [
    "# 研究totalRoom与attractiveness之间的关联度\n",
    "correlation_matrix = Shijingshan_data[['totalRoom', 'attractiveness']].corr()\n",
    "print(correlation_matrix)"
   ]
  },
  {
   "cell_type": "code",
   "execution_count": null,
   "metadata": {},
   "outputs": [],
   "source": [
    "# 分别计算每种房间的总数\n",
    "total_livingRoom = Shijingshan_data['livingRoom'].sum()\n",
    "total_drawingRoom = Shijingshan_data['drawingRoom'].sum()\n",
    "total_kitchen = Shijingshan_data['kitchen'].sum()\n",
    "total_bathroom = Shijingshan_data['bathRoom'].sum()\n",
    "# 将计算结果合并为一个新的Series\n",
    "room_totals = pd.Series({\n",
    "    'Living Room': total_livingRoom,\n",
    "    'Drawing Room': total_drawingRoom,\n",
    "    'Kitchen': total_kitchen,\n",
    "    'Bathroom': total_bathroom\n",
    "})\n",
    "room_totals.plot(kind='pie', autopct='%1.1f%%', startangle=140)\n",
    "plt.title('Room Type Distribution in Dongcheng')\n",
    "plt.ylabel('')\n",
    "plt.show()"
   ]
  },
  {
   "cell_type": "code",
   "execution_count": null,
   "metadata": {},
   "outputs": [],
   "source": [
    "# 我们从一般的角度出发研究房间类型对吸引力的影响\n",
    "correlation_matrix = Shijingshan_data[['bathRoom','kitchen','drawingRoom','livingRoom' ,'attractiveness']].corr()\n",
    "print(correlation_matrix)"
   ]
  },
  {
   "cell_type": "code",
   "execution_count": null,
   "metadata": {},
   "outputs": [],
   "source": [
    "big_family = Shijingshan_data[Shijingshan_data['livingRoom'] >= 3]\n",
    "# 我们再进一步研究大的家庭对不同种类房间的需求\n",
    "correlation_matrix = big_family[['bathRoom','kitchen','drawingRoom', 'attractiveness']].corr()\n",
    "print(correlation_matrix)"
   ]
  },
  {
   "cell_type": "code",
   "execution_count": null,
   "metadata": {},
   "outputs": [],
   "source": [
    "small_family = Shijingshan_data[Shijingshan_data['livingRoom'] < 3]\n",
    "correlation_matrix = small_family[['bathRoom','kitchen','drawingRoom', 'attractiveness']].corr()\n",
    "print(correlation_matrix)"
   ]
  },
  {
   "cell_type": "code",
   "execution_count": null,
   "metadata": {},
   "outputs": [],
   "source": [
    "# 交易时房龄对吸引力的影响\n",
    "correlation_matrix = Shijingshan_data[['constructionTime','houseAge','attractiveness']].corr()\n",
    "print(correlation_matrix)"
   ]
  },
  {
   "cell_type": "code",
   "execution_count": null,
   "metadata": {},
   "outputs": [],
   "source": [
    "correlation_matrix = Shijingshan_data[['houseCondition','houseAge','constructionTime','attractiveness']].corr()\n",
    "print(correlation_matrix)"
   ]
  },
  {
   "cell_type": "code",
   "execution_count": null,
   "metadata": {},
   "outputs": [],
   "source": [
    "correlation_matrix = high_floor[['elevator','attractiveness']].corr()\n",
    "print(correlation_matrix)"
   ]
  },
  {
   "cell_type": "code",
   "execution_count": null,
   "metadata": {},
   "outputs": [],
   "source": [
    "type_mapping = {\n",
    "    1: 'tower',\n",
    "    2: 'bungalow',\n",
    "    3: 'combination of plate and tower',\n",
    "    4: 'plate'\n",
    "}\n",
    "Shijingshan_data['buildingType'] = Shijingshan_data['buildingType'].map(type_mapping)\n",
    "building_type_counts = Shijingshan_data['buildingType'].value_counts()\n",
    "building_type_counts.plot(kind='pie', autopct='%1.1f%%', startangle=140)\n",
    "plt.title('Building Type Distribution')\n",
    "plt.ylabel('')\n",
    "plt.show()"
   ]
  },
  {
   "cell_type": "code",
   "execution_count": null,
   "metadata": {},
   "outputs": [],
   "source": [
    "# 计算每种房屋建筑结构类型的attractiveness平均值\n",
    "attractiveness_avg = Shijingshan_data.groupby('buildingType')['attractiveness'].mean().sort_values(ascending=False)\n",
    "print(attractiveness_avg)\n",
    "attractiveness_avg.plot(kind='bar')\n",
    "plt.title('Average Attractiveness by House Type')\n",
    "plt.xlabel('Building Type')\n",
    "plt.ylabel('Average Attractiveness')\n",
    "plt.show()"
   ]
  },
  {
   "cell_type": "code",
   "execution_count": null,
   "metadata": {},
   "outputs": [],
   "source": [
    "Shijingshan_data= Shijingshan_data[Shijingshan_data['buildingStructure']!=1]\n",
    "Shijingshan_data['buildingStructure']"
   ]
  },
  {
   "cell_type": "code",
   "execution_count": null,
   "metadata": {},
   "outputs": [],
   "source": [
    "type_mapping = {\n",
    "    2:\"mixed\",\n",
    "    3:\"brick and wood\", \n",
    "    4:\"brick and concrete\", \n",
    "    5:\"steel\", \n",
    "    6:\"steel-concrete composite\"\n",
    "}\n",
    "Shijingshan_data['buildingStructure'] = Shijingshan_data['buildingStructure'].map(type_mapping)\n",
    "building_type_counts = Shijingshan_data['buildingStructure'].value_counts()\n",
    "explode_values = (0, 0, 0.3, 0.2, 0.1)\n",
    "building_type_counts.plot(kind='pie', autopct='%1.1f%%', startangle=140, explode=explode_values)\n",
    "plt.title('Building Structure Distribution')\n",
    "plt.ylabel('')\n",
    "plt.show()"
   ]
  },
  {
   "cell_type": "code",
   "execution_count": null,
   "metadata": {},
   "outputs": [],
   "source": [
    "# 计算每种房屋建筑结构类型的attractiveness平均值\n",
    "attractiveness_avg = Shijingshan_data.groupby('buildingStructure')['attractiveness'].mean().sort_values(ascending=False)\n",
    "print(attractiveness_avg)\n",
    "attractiveness_avg.plot(kind='bar')\n",
    "plt.title('Average Attractiveness by Building Structure')\n",
    "plt.xlabel('Building Structure')\n",
    "plt.ylabel('Average Attractiveness')\n",
    "plt.show()"
   ]
  }
 ],
 "metadata": {
  "kernelspec": {
   "display_name": "Python 3",
   "language": "python",
   "name": "python3"
  },
  "language_info": {
   "codemirror_mode": {
    "name": "ipython",
    "version": 3
   },
   "file_extension": ".py",
   "mimetype": "text/x-python",
   "name": "python",
   "nbconvert_exporter": "python",
   "pygments_lexer": "ipython3",
   "version": "3.12.4"
  }
 },
 "nbformat": 4,
 "nbformat_minor": 2
}
